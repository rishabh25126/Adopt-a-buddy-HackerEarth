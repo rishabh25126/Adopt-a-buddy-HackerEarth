{
 "cells": [
  {
   "cell_type": "markdown",
   "metadata": {
    "colab_type": "text",
    "id": "0raZuTCBuSkD"
   },
   "source": [
    "# HackerEarth Machine Learning challenge: Adopt a buddy\n",
    "\n",
    "Steps to be taken:\n",
    "\n",
    "\n",
    "1.   Get the Data from the source.\n",
    "2.   Exploratory Data Analysis on the data\n",
    "3.   Handling missing data\n",
    "4.   Feature Engineering - creating new features\n",
    "5.   Preparing the data to be feed in ML\n",
    "6.   Handling categorical data\n",
    "7.   Scaling the data for better ML models performance\n",
    "8.   Training ML model\n",
    "9.   Evaluating model\n",
    "10.   Predicting the values from model\n",
    "11.   Exporting the data to CSV"
   ]
  },
  {
   "cell_type": "markdown",
   "metadata": {
    "colab_type": "text",
    "id": "RfMmUcanuYxu"
   },
   "source": [
    "importing libraries"
   ]
  },
  {
   "cell_type": "code",
   "execution_count": 1,
   "metadata": {
    "_cell_guid": "b1076dfc-b9ad-4769-8c92-a6c4dae69d19",
    "_uuid": "8f2839f25d086af736a60e9eeb907d3b93b6e0e5",
    "colab": {},
    "colab_type": "code",
    "execution": {
     "iopub.execute_input": "2020-08-20T15:19:57.473136Z",
     "iopub.status.busy": "2020-08-20T15:19:57.472345Z",
     "iopub.status.idle": "2020-08-20T15:19:57.483144Z",
     "shell.execute_reply": "2020-08-20T15:19:57.482006Z"
    },
    "id": "mWdJmUNSHe7w",
    "papermill": {
     "duration": 0.041414,
     "end_time": "2020-08-20T15:19:57.483363",
     "exception": false,
     "start_time": "2020-08-20T15:19:57.441949",
     "status": "completed"
    },
    "tags": []
   },
   "outputs": [],
   "source": [
    "import numpy as np\n",
    "import pandas as pd\n",
    "\n",
    "import os"
   ]
  },
  {
   "cell_type": "markdown",
   "metadata": {
    "colab_type": "text",
    "id": "n-ZZrhWjufCG"
   },
   "source": [
    "Get the data from the cvs files provided from the hackerearth"
   ]
  },
  {
   "cell_type": "code",
   "execution_count": 2,
   "metadata": {
    "_cell_guid": "79c7e3d0-c299-4dcb-8224-4455121ee9b0",
    "_uuid": "d629ff2d2480ee46fbb7e2d37f6b5fab8052498a",
    "colab": {
     "base_uri": "https://localhost:8080/",
     "height": 309
    },
    "colab_type": "code",
    "execution": {
     "iopub.execute_input": "2020-08-20T15:19:57.539290Z",
     "iopub.status.busy": "2020-08-20T15:19:57.538487Z",
     "iopub.status.idle": "2020-08-20T15:19:57.750368Z",
     "shell.execute_reply": "2020-08-20T15:19:57.749693Z"
    },
    "id": "ROiU3Mo3He8D",
    "outputId": "1518d394-2c37-4c6c-a5a6-128ee8771dbf",
    "papermill": {
     "duration": 0.242917,
     "end_time": "2020-08-20T15:19:57.750505",
     "exception": false,
     "start_time": "2020-08-20T15:19:57.507588",
     "status": "completed"
    },
    "tags": []
   },
   "outputs": [
    {
     "data": {
      "text/html": [
       "<div>\n",
       "<style scoped>\n",
       "    .dataframe tbody tr th:only-of-type {\n",
       "        vertical-align: middle;\n",
       "    }\n",
       "\n",
       "    .dataframe tbody tr th {\n",
       "        vertical-align: top;\n",
       "    }\n",
       "\n",
       "    .dataframe thead th {\n",
       "        text-align: right;\n",
       "    }\n",
       "</style>\n",
       "<table border=\"1\" class=\"dataframe\">\n",
       "  <thead>\n",
       "    <tr style=\"text-align: right;\">\n",
       "      <th></th>\n",
       "      <th>pet_id</th>\n",
       "      <th>issue_date</th>\n",
       "      <th>listing_date</th>\n",
       "      <th>condition</th>\n",
       "      <th>color_type</th>\n",
       "      <th>length(m)</th>\n",
       "      <th>height(cm)</th>\n",
       "      <th>X1</th>\n",
       "      <th>X2</th>\n",
       "      <th>breed_category</th>\n",
       "      <th>pet_category</th>\n",
       "    </tr>\n",
       "  </thead>\n",
       "  <tbody>\n",
       "    <tr>\n",
       "      <th>0</th>\n",
       "      <td>ANSL_69903</td>\n",
       "      <td>2016-07-10 00:00:00</td>\n",
       "      <td>2016-09-21 16:25:00</td>\n",
       "      <td>2.0</td>\n",
       "      <td>Brown Tabby</td>\n",
       "      <td>0.80</td>\n",
       "      <td>7.78</td>\n",
       "      <td>13</td>\n",
       "      <td>9</td>\n",
       "      <td>0.0</td>\n",
       "      <td>1</td>\n",
       "    </tr>\n",
       "    <tr>\n",
       "      <th>1</th>\n",
       "      <td>ANSL_66892</td>\n",
       "      <td>2013-11-21 00:00:00</td>\n",
       "      <td>2018-12-27 17:47:00</td>\n",
       "      <td>1.0</td>\n",
       "      <td>White</td>\n",
       "      <td>0.72</td>\n",
       "      <td>14.19</td>\n",
       "      <td>13</td>\n",
       "      <td>9</td>\n",
       "      <td>0.0</td>\n",
       "      <td>2</td>\n",
       "    </tr>\n",
       "    <tr>\n",
       "      <th>2</th>\n",
       "      <td>ANSL_69750</td>\n",
       "      <td>2014-09-28 00:00:00</td>\n",
       "      <td>2016-10-19 08:24:00</td>\n",
       "      <td>NaN</td>\n",
       "      <td>Brown</td>\n",
       "      <td>0.15</td>\n",
       "      <td>40.90</td>\n",
       "      <td>15</td>\n",
       "      <td>4</td>\n",
       "      <td>2.0</td>\n",
       "      <td>4</td>\n",
       "    </tr>\n",
       "    <tr>\n",
       "      <th>3</th>\n",
       "      <td>ANSL_71623</td>\n",
       "      <td>2016-12-31 00:00:00</td>\n",
       "      <td>2019-01-25 18:30:00</td>\n",
       "      <td>1.0</td>\n",
       "      <td>White</td>\n",
       "      <td>0.62</td>\n",
       "      <td>17.82</td>\n",
       "      <td>0</td>\n",
       "      <td>1</td>\n",
       "      <td>0.0</td>\n",
       "      <td>2</td>\n",
       "    </tr>\n",
       "    <tr>\n",
       "      <th>4</th>\n",
       "      <td>ANSL_57969</td>\n",
       "      <td>2017-09-28 00:00:00</td>\n",
       "      <td>2017-11-19 09:38:00</td>\n",
       "      <td>2.0</td>\n",
       "      <td>Black</td>\n",
       "      <td>0.50</td>\n",
       "      <td>11.06</td>\n",
       "      <td>18</td>\n",
       "      <td>4</td>\n",
       "      <td>0.0</td>\n",
       "      <td>1</td>\n",
       "    </tr>\n",
       "  </tbody>\n",
       "</table>\n",
       "</div>"
      ],
      "text/plain": [
       "       pet_id           issue_date  ... breed_category  pet_category\n",
       "0  ANSL_69903  2016-07-10 00:00:00  ...            0.0             1\n",
       "1  ANSL_66892  2013-11-21 00:00:00  ...            0.0             2\n",
       "2  ANSL_69750  2014-09-28 00:00:00  ...            2.0             4\n",
       "3  ANSL_71623  2016-12-31 00:00:00  ...            0.0             2\n",
       "4  ANSL_57969  2017-09-28 00:00:00  ...            0.0             1\n",
       "\n",
       "[5 rows x 11 columns]"
      ]
     },
     "execution_count": 2,
     "metadata": {
      "tags": []
     },
     "output_type": "execute_result"
    }
   ],
   "source": [
    "train=pd.read_csv(\"/content/train.csv\") # Training Data\n",
    "test=pd.read_csv(\"/content/test.csv\") # Testing Data\n",
    "train.head()"
   ]
  },
  {
   "cell_type": "code",
   "execution_count": 3,
   "metadata": {
    "colab": {
     "base_uri": "https://localhost:8080/",
     "height": 204
    },
    "colab_type": "code",
    "execution": {
     "iopub.execute_input": "2020-08-20T15:19:57.816680Z",
     "iopub.status.busy": "2020-08-20T15:19:57.815521Z",
     "iopub.status.idle": "2020-08-20T15:19:57.821139Z",
     "shell.execute_reply": "2020-08-20T15:19:57.820347Z"
    },
    "id": "iHgyjD0zHe8O",
    "outputId": "b883b917-bf37-48d7-9882-c0573bbda93d",
    "papermill": {
     "duration": 0.046927,
     "end_time": "2020-08-20T15:19:57.821292",
     "exception": false,
     "start_time": "2020-08-20T15:19:57.774365",
     "status": "completed"
    },
    "tags": []
   },
   "outputs": [
    {
     "data": {
      "text/html": [
       "<div>\n",
       "<style scoped>\n",
       "    .dataframe tbody tr th:only-of-type {\n",
       "        vertical-align: middle;\n",
       "    }\n",
       "\n",
       "    .dataframe tbody tr th {\n",
       "        vertical-align: top;\n",
       "    }\n",
       "\n",
       "    .dataframe thead th {\n",
       "        text-align: right;\n",
       "    }\n",
       "</style>\n",
       "<table border=\"1\" class=\"dataframe\">\n",
       "  <thead>\n",
       "    <tr style=\"text-align: right;\">\n",
       "      <th></th>\n",
       "      <th>pet_id</th>\n",
       "      <th>issue_date</th>\n",
       "      <th>listing_date</th>\n",
       "      <th>condition</th>\n",
       "      <th>color_type</th>\n",
       "      <th>length(m)</th>\n",
       "      <th>height(cm)</th>\n",
       "      <th>X1</th>\n",
       "      <th>X2</th>\n",
       "    </tr>\n",
       "  </thead>\n",
       "  <tbody>\n",
       "    <tr>\n",
       "      <th>0</th>\n",
       "      <td>ANSL_75005</td>\n",
       "      <td>2005-08-17 00:00:00</td>\n",
       "      <td>2017-09-07 15:35:00</td>\n",
       "      <td>0.0</td>\n",
       "      <td>Black</td>\n",
       "      <td>0.87</td>\n",
       "      <td>42.73</td>\n",
       "      <td>0</td>\n",
       "      <td>7</td>\n",
       "    </tr>\n",
       "    <tr>\n",
       "      <th>1</th>\n",
       "      <td>ANSL_76663</td>\n",
       "      <td>2018-11-15 00:00:00</td>\n",
       "      <td>2019-05-08 17:24:00</td>\n",
       "      <td>1.0</td>\n",
       "      <td>Orange Tabby</td>\n",
       "      <td>0.06</td>\n",
       "      <td>6.71</td>\n",
       "      <td>0</td>\n",
       "      <td>1</td>\n",
       "    </tr>\n",
       "    <tr>\n",
       "      <th>2</th>\n",
       "      <td>ANSL_58259</td>\n",
       "      <td>2012-10-11 00:00:00</td>\n",
       "      <td>2018-04-02 16:51:00</td>\n",
       "      <td>1.0</td>\n",
       "      <td>Black</td>\n",
       "      <td>0.24</td>\n",
       "      <td>41.21</td>\n",
       "      <td>0</td>\n",
       "      <td>7</td>\n",
       "    </tr>\n",
       "    <tr>\n",
       "      <th>3</th>\n",
       "      <td>ANSL_67171</td>\n",
       "      <td>2015-02-13 00:00:00</td>\n",
       "      <td>2018-04-06 07:25:00</td>\n",
       "      <td>1.0</td>\n",
       "      <td>Black</td>\n",
       "      <td>0.29</td>\n",
       "      <td>8.46</td>\n",
       "      <td>7</td>\n",
       "      <td>1</td>\n",
       "    </tr>\n",
       "    <tr>\n",
       "      <th>4</th>\n",
       "      <td>ANSL_72871</td>\n",
       "      <td>2017-01-18 00:00:00</td>\n",
       "      <td>2018-04-26 13:42:00</td>\n",
       "      <td>1.0</td>\n",
       "      <td>Brown</td>\n",
       "      <td>0.71</td>\n",
       "      <td>30.92</td>\n",
       "      <td>0</td>\n",
       "      <td>7</td>\n",
       "    </tr>\n",
       "  </tbody>\n",
       "</table>\n",
       "</div>"
      ],
      "text/plain": [
       "       pet_id           issue_date         listing_date  ...  height(cm) X1  X2\n",
       "0  ANSL_75005  2005-08-17 00:00:00  2017-09-07 15:35:00  ...       42.73  0   7\n",
       "1  ANSL_76663  2018-11-15 00:00:00  2019-05-08 17:24:00  ...        6.71  0   1\n",
       "2  ANSL_58259  2012-10-11 00:00:00  2018-04-02 16:51:00  ...       41.21  0   7\n",
       "3  ANSL_67171  2015-02-13 00:00:00  2018-04-06 07:25:00  ...        8.46  7   1\n",
       "4  ANSL_72871  2017-01-18 00:00:00  2018-04-26 13:42:00  ...       30.92  0   7\n",
       "\n",
       "[5 rows x 9 columns]"
      ]
     },
     "execution_count": 3,
     "metadata": {
      "tags": []
     },
     "output_type": "execute_result"
    }
   ],
   "source": [
    "test.head()"
   ]
  },
  {
   "cell_type": "markdown",
   "metadata": {
    "colab_type": "text",
    "id": "txVmF-bNuyZZ"
   },
   "source": [
    "# Exploring the data"
   ]
  },
  {
   "cell_type": "markdown",
   "metadata": {
    "colab_type": "text",
    "id": "xHFyV1_xvjSn"
   },
   "source": [
    "Shape of the data"
   ]
  },
  {
   "cell_type": "code",
   "execution_count": 4,
   "metadata": {
    "colab": {
     "base_uri": "https://localhost:8080/",
     "height": 34
    },
    "colab_type": "code",
    "execution": {
     "iopub.execute_input": "2020-08-20T15:19:57.877696Z",
     "iopub.status.busy": "2020-08-20T15:19:57.876827Z",
     "iopub.status.idle": "2020-08-20T15:19:57.881337Z",
     "shell.execute_reply": "2020-08-20T15:19:57.880647Z"
    },
    "id": "qNdPE3V5He8X",
    "outputId": "e1e077be-1206-4ec6-bed0-b373eae51168",
    "papermill": {
     "duration": 0.03592,
     "end_time": "2020-08-20T15:19:57.881471",
     "exception": false,
     "start_time": "2020-08-20T15:19:57.845551",
     "status": "completed"
    },
    "tags": []
   },
   "outputs": [
    {
     "data": {
      "text/plain": [
       "((18834, 11), (8072, 9))"
      ]
     },
     "execution_count": 4,
     "metadata": {
      "tags": []
     },
     "output_type": "execute_result"
    }
   ],
   "source": [
    "train.shape,test.shape"
   ]
  },
  {
   "cell_type": "markdown",
   "metadata": {
    "colab_type": "text",
    "id": "EUFdXLf6He8k",
    "papermill": {
     "duration": 0.024264,
     "end_time": "2020-08-20T15:19:57.930238",
     "exception": false,
     "start_time": "2020-08-20T15:19:57.905974",
     "status": "completed"
    },
    "tags": []
   },
   "source": [
    "## Checking missing values"
   ]
  },
  {
   "cell_type": "code",
   "execution_count": 5,
   "metadata": {
    "colab": {
     "base_uri": "https://localhost:8080/",
     "height": 323
    },
    "colab_type": "code",
    "execution": {
     "iopub.execute_input": "2020-08-20T15:19:57.994155Z",
     "iopub.status.busy": "2020-08-20T15:19:57.993336Z",
     "iopub.status.idle": "2020-08-20T15:19:58.014363Z",
     "shell.execute_reply": "2020-08-20T15:19:58.013077Z"
    },
    "id": "6kYygK5LHe8l",
    "outputId": "4131b47b-351a-44cd-bed2-5bf0f055e817",
    "papermill": {
     "duration": 0.059932,
     "end_time": "2020-08-20T15:19:58.014577",
     "exception": false,
     "start_time": "2020-08-20T15:19:57.954645",
     "status": "completed"
    },
    "tags": []
   },
   "outputs": [
    {
     "name": "stdout",
     "output_type": "stream",
     "text": [
      "<class 'pandas.core.frame.DataFrame'>\n",
      "RangeIndex: 18834 entries, 0 to 18833\n",
      "Data columns (total 11 columns):\n",
      " #   Column          Non-Null Count  Dtype  \n",
      "---  ------          --------------  -----  \n",
      " 0   pet_id          18834 non-null  object \n",
      " 1   issue_date      18834 non-null  object \n",
      " 2   listing_date    18834 non-null  object \n",
      " 3   condition       17357 non-null  float64\n",
      " 4   color_type      18834 non-null  object \n",
      " 5   length(m)       18834 non-null  float64\n",
      " 6   height(cm)      18834 non-null  float64\n",
      " 7   X1              18834 non-null  int64  \n",
      " 8   X2              18834 non-null  int64  \n",
      " 9   breed_category  18834 non-null  float64\n",
      " 10  pet_category    18834 non-null  int64  \n",
      "dtypes: float64(4), int64(3), object(4)\n",
      "memory usage: 1.6+ MB\n"
     ]
    }
   ],
   "source": [
    "train.info()"
   ]
  },
  {
   "cell_type": "code",
   "execution_count": 6,
   "metadata": {
    "colab": {
     "base_uri": "https://localhost:8080/",
     "height": 289
    },
    "colab_type": "code",
    "execution": {
     "iopub.execute_input": "2020-08-20T15:19:58.075343Z",
     "iopub.status.busy": "2020-08-20T15:19:58.074462Z",
     "iopub.status.idle": "2020-08-20T15:19:58.087470Z",
     "shell.execute_reply": "2020-08-20T15:19:58.088047Z"
    },
    "id": "es16GnnYHe8s",
    "outputId": "660e3152-938c-458a-e407-d045f038fa4c",
    "papermill": {
     "duration": 0.048664,
     "end_time": "2020-08-20T15:19:58.088268",
     "exception": false,
     "start_time": "2020-08-20T15:19:58.039604",
     "status": "completed"
    },
    "tags": []
   },
   "outputs": [
    {
     "name": "stdout",
     "output_type": "stream",
     "text": [
      "<class 'pandas.core.frame.DataFrame'>\n",
      "RangeIndex: 8072 entries, 0 to 8071\n",
      "Data columns (total 9 columns):\n",
      " #   Column        Non-Null Count  Dtype  \n",
      "---  ------        --------------  -----  \n",
      " 0   pet_id        8072 non-null   object \n",
      " 1   issue_date    8072 non-null   object \n",
      " 2   listing_date  8072 non-null   object \n",
      " 3   condition     7453 non-null   float64\n",
      " 4   color_type    8072 non-null   object \n",
      " 5   length(m)     8072 non-null   float64\n",
      " 6   height(cm)    8072 non-null   float64\n",
      " 7   X1            8072 non-null   int64  \n",
      " 8   X2            8072 non-null   int64  \n",
      "dtypes: float64(3), int64(2), object(4)\n",
      "memory usage: 567.7+ KB\n"
     ]
    }
   ],
   "source": [
    "test.info()"
   ]
  },
  {
   "cell_type": "markdown",
   "metadata": {
    "colab_type": "text",
    "id": "-EllIe02He83",
    "papermill": {
     "duration": 0.0245,
     "end_time": "2020-08-20T15:19:58.138340",
     "exception": false,
     "start_time": "2020-08-20T15:19:58.113840",
     "status": "completed"
    },
    "tags": []
   },
   "source": [
    "It seems there are only null values in 'Condition' column."
   ]
  },
  {
   "cell_type": "markdown",
   "metadata": {
    "colab_type": "text",
    "id": "65f9iA98v7b8"
   },
   "source": [
    "Check unique values in ***breed_category***."
   ]
  },
  {
   "cell_type": "code",
   "execution_count": 7,
   "metadata": {
    "colab": {
     "base_uri": "https://localhost:8080/",
     "height": 85
    },
    "colab_type": "code",
    "execution": {
     "iopub.execute_input": "2020-08-20T15:19:58.194782Z",
     "iopub.status.busy": "2020-08-20T15:19:58.193855Z",
     "iopub.status.idle": "2020-08-20T15:19:58.202366Z",
     "shell.execute_reply": "2020-08-20T15:19:58.201719Z"
    },
    "id": "r7IQEuzSHe86",
    "outputId": "16b0b9de-a0e8-45d9-b9d4-eeb6c11ca914",
    "papermill": {
     "duration": 0.03903,
     "end_time": "2020-08-20T15:19:58.202502",
     "exception": false,
     "start_time": "2020-08-20T15:19:58.163472",
     "status": "completed"
    },
    "tags": []
   },
   "outputs": [
    {
     "data": {
      "text/plain": [
       "0.0    9000\n",
       "1.0    8357\n",
       "2.0    1477\n",
       "Name: breed_category, dtype: int64"
      ]
     },
     "execution_count": 7,
     "metadata": {
      "tags": []
     },
     "output_type": "execute_result"
    }
   ],
   "source": [
    "train['breed_category'].value_counts()"
   ]
  },
  {
   "cell_type": "markdown",
   "metadata": {
    "colab_type": "text",
    "id": "S14AfSYvwEmP"
   },
   "source": [
    "Checking which of the breed_category are none w.r.t condition."
   ]
  },
  {
   "cell_type": "code",
   "execution_count": 8,
   "metadata": {
    "colab": {
     "base_uri": "https://localhost:8080/",
     "height": 51
    },
    "colab_type": "code",
    "execution": {
     "iopub.execute_input": "2020-08-20T15:19:58.259692Z",
     "iopub.status.busy": "2020-08-20T15:19:58.258793Z",
     "iopub.status.idle": "2020-08-20T15:19:58.267095Z",
     "shell.execute_reply": "2020-08-20T15:19:58.267712Z"
    },
    "id": "m9w4dZLmHe9B",
    "outputId": "ee44950f-ce65-49f4-eb30-bb1e64889aa0",
    "papermill": {
     "duration": 0.040541,
     "end_time": "2020-08-20T15:19:58.267902",
     "exception": false,
     "start_time": "2020-08-20T15:19:58.227361",
     "status": "completed"
    },
    "tags": []
   },
   "outputs": [
    {
     "data": {
      "text/plain": [
       "2.0    1477\n",
       "Name: breed_category, dtype: int64"
      ]
     },
     "execution_count": 8,
     "metadata": {
      "tags": []
     },
     "output_type": "execute_result"
    }
   ],
   "source": [
    "a=train['breed_category'][(np.isnan(train['condition']))]\n",
    "a.value_counts()"
   ]
  },
  {
   "cell_type": "markdown",
   "metadata": {
    "colab_type": "text",
    "id": "xiuB94eQHe9I",
    "papermill": {
     "duration": 0.035349,
     "end_time": "2020-08-20T15:19:58.334091",
     "exception": false,
     "start_time": "2020-08-20T15:19:58.298742",
     "status": "completed"
    },
    "tags": []
   },
   "source": [
    "so it means all the missing values belong to a single particular label.That's why,we can fill them with a unique value like -1 "
   ]
  },
  {
   "cell_type": "markdown",
   "metadata": {
    "colab_type": "text",
    "id": "5X3qN8jfHe9J",
    "papermill": {
     "duration": 0.025191,
     "end_time": "2020-08-20T15:19:58.385704",
     "exception": false,
     "start_time": "2020-08-20T15:19:58.360513",
     "status": "completed"
    },
    "tags": []
   },
   "source": [
    "Let's combine our data for further analysis. "
   ]
  },
  {
   "cell_type": "code",
   "execution_count": 9,
   "metadata": {
    "colab": {},
    "colab_type": "code",
    "execution": {
     "iopub.execute_input": "2020-08-20T15:19:58.443687Z",
     "iopub.status.busy": "2020-08-20T15:19:58.442844Z",
     "iopub.status.idle": "2020-08-20T15:19:58.446815Z",
     "shell.execute_reply": "2020-08-20T15:19:58.446012Z"
    },
    "id": "MxE2uj7xHe9P",
    "papermill": {
     "duration": 0.035338,
     "end_time": "2020-08-20T15:19:58.446956",
     "exception": false,
     "start_time": "2020-08-20T15:19:58.411618",
     "status": "completed"
    },
    "tags": []
   },
   "outputs": [],
   "source": [
    "test_id=test['pet_id'] #copy all test id to create submission file\n",
    "ntrain=train.shape[0] #save the train left...it will use when the combine data will split into the previous train and test data after doing feature engineering"
   ]
  },
  {
   "cell_type": "markdown",
   "metadata": {
    "colab_type": "text",
    "id": "efN8D--YwoLr"
   },
   "source": [
    "Saving target variables i.e label"
   ]
  },
  {
   "cell_type": "code",
   "execution_count": 10,
   "metadata": {
    "colab": {},
    "colab_type": "code",
    "execution": {
     "iopub.execute_input": "2020-08-20T15:19:58.504351Z",
     "iopub.status.busy": "2020-08-20T15:19:58.503294Z",
     "iopub.status.idle": "2020-08-20T15:19:58.506079Z",
     "shell.execute_reply": "2020-08-20T15:19:58.506657Z"
    },
    "id": "bjzMpFYKHe9Y",
    "papermill": {
     "duration": 0.034086,
     "end_time": "2020-08-20T15:19:58.506855",
     "exception": false,
     "start_time": "2020-08-20T15:19:58.472769",
     "status": "completed"
    },
    "tags": []
   },
   "outputs": [],
   "source": [
    "y1=train['breed_category']\n",
    "y2=train['pet_category']"
   ]
  },
  {
   "cell_type": "markdown",
   "metadata": {
    "colab_type": "text",
    "id": "eC_p6q3YwxTy"
   },
   "source": [
    "Combine test and train data"
   ]
  },
  {
   "cell_type": "code",
   "execution_count": 11,
   "metadata": {
    "colab": {},
    "colab_type": "code",
    "execution": {
     "iopub.execute_input": "2020-08-20T15:19:58.570318Z",
     "iopub.status.busy": "2020-08-20T15:19:58.565649Z",
     "iopub.status.idle": "2020-08-20T15:19:58.594765Z",
     "shell.execute_reply": "2020-08-20T15:19:58.593963Z"
    },
    "id": "-y1elrfVHe9f",
    "papermill": {
     "duration": 0.062738,
     "end_time": "2020-08-20T15:19:58.594915",
     "exception": false,
     "start_time": "2020-08-20T15:19:58.532177",
     "status": "completed"
    },
    "tags": []
   },
   "outputs": [],
   "source": [
    "all_data = pd.concat((train, test)).reset_index(drop=True)\n",
    "all_data.drop(['breed_category','pet_category'], axis=1, inplace=True)"
   ]
  },
  {
   "cell_type": "markdown",
   "metadata": {
    "colab_type": "text",
    "id": "gulHtgTqHe9k",
    "papermill": {
     "duration": 0.025437,
     "end_time": "2020-08-20T15:19:58.645850",
     "exception": false,
     "start_time": "2020-08-20T15:19:58.620413",
     "status": "completed"
    },
    "tags": []
   },
   "source": [
    "now it's ready to do feature engineering"
   ]
  },
  {
   "cell_type": "markdown",
   "metadata": {
    "colab_type": "text",
    "id": "OPPcMUd-He9m",
    "papermill": {
     "duration": 0.025133,
     "end_time": "2020-08-20T15:19:58.697094",
     "exception": false,
     "start_time": "2020-08-20T15:19:58.671961",
     "status": "completed"
    },
    "tags": []
   },
   "source": [
    "# Feature Engineering"
   ]
  },
  {
   "cell_type": "markdown",
   "metadata": {
    "colab_type": "text",
    "id": "v29QS_RsHe9m",
    "papermill": {
     "duration": 0.025234,
     "end_time": "2020-08-20T15:19:58.747608",
     "exception": false,
     "start_time": "2020-08-20T15:19:58.722374",
     "status": "completed"
    },
    "tags": []
   },
   "source": [
    "## Handling missing data\n",
    "missing value fillup with -1"
   ]
  },
  {
   "cell_type": "code",
   "execution_count": 12,
   "metadata": {
    "colab": {
     "base_uri": "https://localhost:8080/",
     "height": 85
    },
    "colab_type": "code",
    "execution": {
     "iopub.execute_input": "2020-08-20T15:19:58.804090Z",
     "iopub.status.busy": "2020-08-20T15:19:58.803292Z",
     "iopub.status.idle": "2020-08-20T15:19:58.811745Z",
     "shell.execute_reply": "2020-08-20T15:19:58.810936Z"
    },
    "id": "oCeEECOVHe9n",
    "outputId": "768353cb-2b58-4109-c521-3bacc10c314a",
    "papermill": {
     "duration": 0.038835,
     "end_time": "2020-08-20T15:19:58.811885",
     "exception": false,
     "start_time": "2020-08-20T15:19:58.773050",
     "status": "completed"
    },
    "tags": []
   },
   "outputs": [
    {
     "data": {
      "text/plain": [
       "1.0    9747\n",
       "0.0    8966\n",
       "2.0    6097\n",
       "Name: condition, dtype: int64"
      ]
     },
     "execution_count": 12,
     "metadata": {
      "tags": []
     },
     "output_type": "execute_result"
    }
   ],
   "source": [
    "all_data['condition'].value_counts()"
   ]
  },
  {
   "cell_type": "code",
   "execution_count": 13,
   "metadata": {
    "colab": {},
    "colab_type": "code",
    "execution": {
     "iopub.execute_input": "2020-08-20T15:19:58.869571Z",
     "iopub.status.busy": "2020-08-20T15:19:58.868709Z",
     "iopub.status.idle": "2020-08-20T15:19:58.872401Z",
     "shell.execute_reply": "2020-08-20T15:19:58.873034Z"
    },
    "id": "VHYanpJRHe9s",
    "papermill": {
     "duration": 0.035739,
     "end_time": "2020-08-20T15:19:58.873206",
     "exception": false,
     "start_time": "2020-08-20T15:19:58.837467",
     "status": "completed"
    },
    "tags": []
   },
   "outputs": [],
   "source": [
    "all_data['condition'].fillna(-1,inplace=True)"
   ]
  },
  {
   "cell_type": "code",
   "execution_count": 14,
   "metadata": {
    "colab": {
     "base_uri": "https://localhost:8080/",
     "height": 102
    },
    "colab_type": "code",
    "execution": {
     "iopub.execute_input": "2020-08-20T15:19:58.931331Z",
     "iopub.status.busy": "2020-08-20T15:19:58.930497Z",
     "iopub.status.idle": "2020-08-20T15:19:58.938701Z",
     "shell.execute_reply": "2020-08-20T15:19:58.938035Z"
    },
    "id": "J-eq8lVTHe92",
    "outputId": "1622504e-e657-4e8a-c501-3914c1646a16",
    "papermill": {
     "duration": 0.0396,
     "end_time": "2020-08-20T15:19:58.938840",
     "exception": false,
     "start_time": "2020-08-20T15:19:58.899240",
     "status": "completed"
    },
    "tags": []
   },
   "outputs": [
    {
     "data": {
      "text/plain": [
       " 1.0    9747\n",
       " 0.0    8966\n",
       " 2.0    6097\n",
       "-1.0    2096\n",
       "Name: condition, dtype: int64"
      ]
     },
     "execution_count": 14,
     "metadata": {
      "tags": []
     },
     "output_type": "execute_result"
    }
   ],
   "source": [
    "all_data['condition'].value_counts()"
   ]
  },
  {
   "cell_type": "code",
   "execution_count": 15,
   "metadata": {
    "colab": {
     "base_uri": "https://localhost:8080/",
     "height": 289
    },
    "colab_type": "code",
    "execution": {
     "iopub.execute_input": "2020-08-20T15:19:59.009581Z",
     "iopub.status.busy": "2020-08-20T15:19:59.008335Z",
     "iopub.status.idle": "2020-08-20T15:19:59.022965Z",
     "shell.execute_reply": "2020-08-20T15:19:59.022329Z"
    },
    "id": "DdsQvetJHe9-",
    "outputId": "17506993-c741-4c09-e7ce-9b10c418071e",
    "papermill": {
     "duration": 0.058354,
     "end_time": "2020-08-20T15:19:59.023107",
     "exception": false,
     "start_time": "2020-08-20T15:19:58.964753",
     "status": "completed"
    },
    "tags": []
   },
   "outputs": [
    {
     "name": "stdout",
     "output_type": "stream",
     "text": [
      "<class 'pandas.core.frame.DataFrame'>\n",
      "RangeIndex: 26906 entries, 0 to 26905\n",
      "Data columns (total 9 columns):\n",
      " #   Column        Non-Null Count  Dtype  \n",
      "---  ------        --------------  -----  \n",
      " 0   pet_id        26906 non-null  object \n",
      " 1   issue_date    26906 non-null  object \n",
      " 2   listing_date  26906 non-null  object \n",
      " 3   condition     26906 non-null  float64\n",
      " 4   color_type    26906 non-null  object \n",
      " 5   length(m)     26906 non-null  float64\n",
      " 6   height(cm)    26906 non-null  float64\n",
      " 7   X1            26906 non-null  int64  \n",
      " 8   X2            26906 non-null  int64  \n",
      "dtypes: float64(3), int64(2), object(4)\n",
      "memory usage: 1.8+ MB\n"
     ]
    }
   ],
   "source": [
    "all_data.info()"
   ]
  },
  {
   "cell_type": "markdown",
   "metadata": {
    "colab_type": "text",
    "id": "0qnVq-edHe-F",
    "papermill": {
     "duration": 0.025401,
     "end_time": "2020-08-20T15:19:59.074320",
     "exception": false,
     "start_time": "2020-08-20T15:19:59.048919",
     "status": "completed"
    },
    "tags": []
   },
   "source": [
    "Now we have no ***null*** values in out dataset."
   ]
  },
  {
   "cell_type": "markdown",
   "metadata": {
    "colab_type": "text",
    "id": "zwohoYw0xV1e"
   },
   "source": [
    "## Handling issue_date and listing_data"
   ]
  },
  {
   "cell_type": "code",
   "execution_count": 16,
   "metadata": {
    "colab": {},
    "colab_type": "code",
    "execution": {
     "iopub.execute_input": "2020-08-20T15:19:59.364392Z",
     "iopub.status.busy": "2020-08-20T15:19:59.363104Z",
     "iopub.status.idle": "2020-08-20T15:19:59.386196Z",
     "shell.execute_reply": "2020-08-20T15:19:59.387194Z"
    },
    "id": "CkzaP5VjHe-S",
    "papermill": {
     "duration": 0.073791,
     "end_time": "2020-08-20T15:19:59.387467",
     "exception": false,
     "start_time": "2020-08-20T15:19:59.313676",
     "status": "completed"
    },
    "tags": []
   },
   "outputs": [],
   "source": [
    "all_data['issue_date']=pd.to_datetime(all_data['issue_date'])\n",
    "all_data['listing_date']=pd.to_datetime(all_data['listing_date'])\n"
   ]
  },
  {
   "cell_type": "code",
   "execution_count": 17,
   "metadata": {
    "colab": {},
    "colab_type": "code",
    "execution": {
     "iopub.execute_input": "2020-08-20T15:19:59.564841Z",
     "iopub.status.busy": "2020-08-20T15:19:59.559745Z",
     "iopub.status.idle": "2020-08-20T15:19:59.600745Z",
     "shell.execute_reply": "2020-08-20T15:19:59.599890Z"
    },
    "id": "Gd36X1ZmHe-Y",
    "papermill": {
     "duration": 0.181647,
     "end_time": "2020-08-20T15:19:59.600889",
     "exception": false,
     "start_time": "2020-08-20T15:19:59.419242",
     "status": "completed"
    },
    "tags": []
   },
   "outputs": [],
   "source": [
    "x=[]\n",
    "for d in all_data['issue_date']:\n",
    "    y=d.month\n",
    "    x.append(y)\n",
    "all_data['issue_month']=x"
   ]
  },
  {
   "cell_type": "code",
   "execution_count": 18,
   "metadata": {
    "colab": {},
    "colab_type": "code",
    "execution": {
     "iopub.execute_input": "2020-08-20T15:19:59.727445Z",
     "iopub.status.busy": "2020-08-20T15:19:59.726540Z",
     "iopub.status.idle": "2020-08-20T15:19:59.731783Z",
     "shell.execute_reply": "2020-08-20T15:19:59.731057Z"
    },
    "id": "xceq8qk0He-e",
    "papermill": {
     "duration": 0.104824,
     "end_time": "2020-08-20T15:19:59.731922",
     "exception": false,
     "start_time": "2020-08-20T15:19:59.627098",
     "status": "completed"
    },
    "tags": []
   },
   "outputs": [],
   "source": [
    "x=[]\n",
    "for d in all_data['listing_date']:\n",
    "    y=d.month\n",
    "    x.append(y)\n",
    "all_data['listing_month']=x"
   ]
  },
  {
   "cell_type": "markdown",
   "metadata": {
    "colab_type": "text",
    "id": "-0GJYr82He-l",
    "papermill": {
     "duration": 0.026153,
     "end_time": "2020-08-20T15:19:59.785790",
     "exception": false,
     "start_time": "2020-08-20T15:19:59.759637",
     "status": "completed"
    },
    "tags": []
   },
   "source": [
    "**time difference between issue and listing date(new feature)**"
   ]
  },
  {
   "cell_type": "markdown",
   "metadata": {
    "colab_type": "text",
    "id": "EI8WDl38He-m",
    "papermill": {
     "duration": 0.025668,
     "end_time": "2020-08-20T15:19:59.837602",
     "exception": false,
     "start_time": "2020-08-20T15:19:59.811934",
     "status": "completed"
    },
    "tags": []
   },
   "source": [
    "it will be a great feature as all animals that are available in shelter must be mature.may be,the issue date set up by birth time and the listing date set up by after getting mature for staying in shelter.so the difference between two of them indicates the time for getting mature of an animal which is not same for all animal.so it's also an important feature  "
   ]
  },
  {
   "cell_type": "code",
   "execution_count": 19,
   "metadata": {
    "colab": {},
    "colab_type": "code",
    "execution": {
     "iopub.execute_input": "2020-08-20T15:19:59.968442Z",
     "iopub.status.busy": "2020-08-20T15:19:59.967632Z",
     "iopub.status.idle": "2020-08-20T15:19:59.971872Z",
     "shell.execute_reply": "2020-08-20T15:19:59.971214Z"
    },
    "id": "IzlKpD_mHe-o",
    "papermill": {
     "duration": 0.108081,
     "end_time": "2020-08-20T15:19:59.972013",
     "exception": false,
     "start_time": "2020-08-20T15:19:59.863932",
     "status": "completed"
    },
    "tags": []
   },
   "outputs": [],
   "source": [
    "x=[]\n",
    "for d in all_data['listing_date']:\n",
    "    y=d.year+(d.month/12.0)+(d.day/365.0)\n",
    "    x.append(y)\n",
    "all_data['modified_listing_date']=x"
   ]
  },
  {
   "cell_type": "code",
   "execution_count": 20,
   "metadata": {
    "colab": {},
    "colab_type": "code",
    "execution": {
     "iopub.execute_input": "2020-08-20T15:20:00.072265Z",
     "iopub.status.busy": "2020-08-20T15:20:00.044192Z",
     "iopub.status.idle": "2020-08-20T15:20:00.179158Z",
     "shell.execute_reply": "2020-08-20T15:20:00.178300Z"
    },
    "id": "tze_RbaVHe-1",
    "papermill": {
     "duration": 0.181128,
     "end_time": "2020-08-20T15:20:00.179328",
     "exception": false,
     "start_time": "2020-08-20T15:19:59.998200",
     "status": "completed"
    },
    "tags": []
   },
   "outputs": [],
   "source": [
    "x=[]\n",
    "for d in all_data['issue_date']:\n",
    "    y=d.year+(d.month/12.0)+(d.day/365.0)\n",
    "    x.append(y)\n",
    "all_data['modified_issue_date']=x"
   ]
  },
  {
   "cell_type": "code",
   "execution_count": 21,
   "metadata": {
    "colab": {},
    "colab_type": "code",
    "execution": {
     "iopub.execute_input": "2020-08-20T15:20:00.243468Z",
     "iopub.status.busy": "2020-08-20T15:20:00.242477Z",
     "iopub.status.idle": "2020-08-20T15:20:00.271742Z",
     "shell.execute_reply": "2020-08-20T15:20:00.270967Z"
    },
    "id": "kAdo2GuZHe-8",
    "papermill": {
     "duration": 0.063819,
     "end_time": "2020-08-20T15:20:00.271905",
     "exception": false,
     "start_time": "2020-08-20T15:20:00.208086",
     "status": "completed"
    },
    "tags": []
   },
   "outputs": [],
   "source": [
    "all_data['took_time']=abs(all_data['modified_listing_date']-all_data['modified_issue_date'])"
   ]
  },
  {
   "cell_type": "markdown",
   "metadata": {
    "colab_type": "text",
    "id": "mh9HiHVqHe_H",
    "papermill": {
     "duration": 0.033819,
     "end_time": "2020-08-20T15:20:00.332662",
     "exception": false,
     "start_time": "2020-08-20T15:20:00.298843",
     "status": "completed"
    },
    "tags": []
   },
   "source": [
    "## Modified pet id and extract important feature \n"
   ]
  },
  {
   "cell_type": "code",
   "execution_count": 22,
   "metadata": {
    "colab": {},
    "colab_type": "code",
    "execution": {
     "iopub.execute_input": "2020-08-20T15:20:00.457589Z",
     "iopub.status.busy": "2020-08-20T15:20:00.448165Z",
     "iopub.status.idle": "2020-08-20T15:20:00.481857Z",
     "shell.execute_reply": "2020-08-20T15:20:00.481189Z"
    },
    "id": "9MZiEDhrHe_I",
    "papermill": {
     "duration": 0.069597,
     "end_time": "2020-08-20T15:20:00.482002",
     "exception": false,
     "start_time": "2020-08-20T15:20:00.412405",
     "status": "completed"
    },
    "tags": []
   },
   "outputs": [],
   "source": [
    "all_data['1stnum'] = all_data['pet_id'].str[:6]\n",
    "all_data['1st2num'] = all_data['pet_id'].str[:7]"
   ]
  },
  {
   "cell_type": "markdown",
   "metadata": {
    "colab_type": "text",
    "id": "u9fgLJiExxnN"
   },
   "source": [
    "# Preparing data to be feed in ML algorithm."
   ]
  },
  {
   "cell_type": "markdown",
   "metadata": {
    "colab_type": "text",
    "id": "46TBK5QhHe_V",
    "papermill": {
     "duration": 0.027424,
     "end_time": "2020-08-20T15:20:00.588581",
     "exception": false,
     "start_time": "2020-08-20T15:20:00.561157",
     "status": "completed"
    },
    "tags": []
   },
   "source": [
    "split back to the train and test data"
   ]
  },
  {
   "cell_type": "code",
   "execution_count": 23,
   "metadata": {
    "colab": {},
    "colab_type": "code",
    "execution": {
     "iopub.execute_input": "2020-08-20T15:20:00.648974Z",
     "iopub.status.busy": "2020-08-20T15:20:00.647976Z",
     "iopub.status.idle": "2020-08-20T15:20:00.651809Z",
     "shell.execute_reply": "2020-08-20T15:20:00.650991Z"
    },
    "id": "NjP8A2N6He_W",
    "papermill": {
     "duration": 0.036374,
     "end_time": "2020-08-20T15:20:00.651957",
     "exception": false,
     "start_time": "2020-08-20T15:20:00.615583",
     "status": "completed"
    },
    "tags": []
   },
   "outputs": [],
   "source": [
    "train = all_data[:ntrain]\n",
    "test = all_data[ntrain:]"
   ]
  },
  {
   "cell_type": "code",
   "execution_count": 24,
   "metadata": {
    "colab": {},
    "colab_type": "code",
    "execution": {
     "iopub.execute_input": "2020-08-20T15:20:00.714241Z",
     "iopub.status.busy": "2020-08-20T15:20:00.712941Z",
     "iopub.status.idle": "2020-08-20T15:20:00.728492Z",
     "shell.execute_reply": "2020-08-20T15:20:00.727682Z"
    },
    "id": "TzAi5duUHe_e",
    "papermill": {
     "duration": 0.049265,
     "end_time": "2020-08-20T15:20:00.728625",
     "exception": false,
     "start_time": "2020-08-20T15:20:00.679360",
     "status": "completed"
    },
    "tags": []
   },
   "outputs": [],
   "source": [
    "#drop some unnecessary features\n",
    "x=train.drop(['pet_id','issue_date','listing_date','modified_issue_date'],axis=1)\n",
    "test=test.drop(['pet_id','issue_date','listing_date','modified_issue_date'],axis=1)\n"
   ]
  },
  {
   "cell_type": "markdown",
   "metadata": {
    "colab_type": "text",
    "id": "fi5aztLQHe_x",
    "papermill": {
     "duration": 0.02628,
     "end_time": "2020-08-20T15:20:00.834588",
     "exception": false,
     "start_time": "2020-08-20T15:20:00.808308",
     "status": "completed"
    },
    "tags": []
   },
   "source": [
    " ## Handling categorical data"
   ]
  },
  {
   "cell_type": "code",
   "execution_count": 25,
   "metadata": {
    "colab": {
     "base_uri": "https://localhost:8080/",
     "height": 34
    },
    "colab_type": "code",
    "execution": {
     "iopub.execute_input": "2020-08-20T15:20:00.902238Z",
     "iopub.status.busy": "2020-08-20T15:20:00.900988Z",
     "iopub.status.idle": "2020-08-20T15:20:00.906509Z",
     "shell.execute_reply": "2020-08-20T15:20:00.905722Z"
    },
    "id": "q45UmXjbHe_3",
    "outputId": "f7834d6a-3165-4816-b41e-d24c753c08c6",
    "papermill": {
     "duration": 0.044059,
     "end_time": "2020-08-20T15:20:00.906657",
     "exception": false,
     "start_time": "2020-08-20T15:20:00.862598",
     "status": "completed"
    },
    "tags": []
   },
   "outputs": [
    {
     "data": {
      "text/plain": [
       "['color_type', '1stnum', '1st2num']"
      ]
     },
     "execution_count": 25,
     "metadata": {
      "tags": []
     },
     "output_type": "execute_result"
    }
   ],
   "source": [
    "x.select_dtypes(exclude='number').columns.to_list()"
   ]
  },
  {
   "cell_type": "markdown",
   "metadata": {
    "colab_type": "text",
    "id": "TBStIrNiHfAA",
    "papermill": {
     "duration": 0.026367,
     "end_time": "2020-08-20T15:20:00.960424",
     "exception": false,
     "start_time": "2020-08-20T15:20:00.934057",
     "status": "completed"
    },
    "tags": []
   },
   "source": [
    "There are a lot of ways to handle categorical variable, but I will use One-Hot encoding."
   ]
  },
  {
   "cell_type": "code",
   "execution_count": 26,
   "metadata": {
    "colab": {
     "base_uri": "https://localhost:8080/",
     "height": 34
    },
    "colab_type": "code",
    "execution": {
     "iopub.execute_input": "2020-08-20T15:20:01.073535Z",
     "iopub.status.busy": "2020-08-20T15:20:01.072657Z",
     "iopub.status.idle": "2020-08-20T15:20:01.076680Z",
     "shell.execute_reply": "2020-08-20T15:20:01.077241Z"
    },
    "id": "WQvBxUmHHfAC",
    "outputId": "8388ebee-f2a4-45ee-8ed0-690dfc6a469d",
    "papermill": {
     "duration": 0.036922,
     "end_time": "2020-08-20T15:20:01.077447",
     "exception": false,
     "start_time": "2020-08-20T15:20:01.040525",
     "status": "completed"
    },
    "tags": []
   },
   "outputs": [
    {
     "data": {
      "text/plain": [
       "(18834, 12)"
      ]
     },
     "execution_count": 26,
     "metadata": {
      "tags": []
     },
     "output_type": "execute_result"
    }
   ],
   "source": [
    "x.shape"
   ]
  },
  {
   "cell_type": "code",
   "execution_count": 27,
   "metadata": {
    "colab": {},
    "colab_type": "code",
    "execution": {
     "iopub.execute_input": "2020-08-20T15:20:01.144222Z",
     "iopub.status.busy": "2020-08-20T15:20:01.143399Z",
     "iopub.status.idle": "2020-08-20T15:20:01.175117Z",
     "shell.execute_reply": "2020-08-20T15:20:01.174269Z"
    },
    "id": "s7byESyfHfAI",
    "papermill": {
     "duration": 0.070893,
     "end_time": "2020-08-20T15:20:01.175281",
     "exception": false,
     "start_time": "2020-08-20T15:20:01.104388",
     "status": "completed"
    },
    "tags": []
   },
   "outputs": [],
   "source": [
    "x=pd.get_dummies(x)\n",
    "test=pd.get_dummies(test)\n"
   ]
  },
  {
   "cell_type": "code",
   "execution_count": 28,
   "metadata": {
    "colab": {
     "base_uri": "https://localhost:8080/",
     "height": 34
    },
    "colab_type": "code",
    "execution": {
     "iopub.execute_input": "2020-08-20T15:20:01.236749Z",
     "iopub.status.busy": "2020-08-20T15:20:01.235541Z",
     "iopub.status.idle": "2020-08-20T15:20:01.239970Z",
     "shell.execute_reply": "2020-08-20T15:20:01.239195Z"
    },
    "id": "-uYtx1FsHfAV",
    "outputId": "2ed5fc4e-476e-4047-fd79-237793523d3d",
    "papermill": {
     "duration": 0.037738,
     "end_time": "2020-08-20T15:20:01.240106",
     "exception": false,
     "start_time": "2020-08-20T15:20:01.202368",
     "status": "completed"
    },
    "tags": []
   },
   "outputs": [
    {
     "data": {
      "text/plain": [
       "((18834, 97), (8072, 95))"
      ]
     },
     "execution_count": 28,
     "metadata": {
      "tags": []
     },
     "output_type": "execute_result"
    }
   ],
   "source": [
    "x.shape,test.shape"
   ]
  },
  {
   "cell_type": "markdown",
   "metadata": {
    "colab_type": "text",
    "id": "ip7E2_gEHfAa",
    "papermill": {
     "duration": 0.029897,
     "end_time": "2020-08-20T15:20:01.297985",
     "exception": false,
     "start_time": "2020-08-20T15:20:01.268088",
     "status": "completed"
    },
    "tags": []
   },
   "source": [
    "look,both shape are not same.train has 97 and test has 95 columns.it means the train and test data contain 2 extra column after one hot endcoding.we have to remove those 2 columns from train data."
   ]
  },
  {
   "cell_type": "code",
   "execution_count": 29,
   "metadata": {
    "colab": {},
    "colab_type": "code",
    "execution": {
     "iopub.execute_input": "2020-08-20T15:20:01.368686Z",
     "iopub.status.busy": "2020-08-20T15:20:01.367559Z",
     "iopub.status.idle": "2020-08-20T15:20:01.371268Z",
     "shell.execute_reply": "2020-08-20T15:20:01.370595Z"
    },
    "id": "gXPEoDGMHfAf",
    "papermill": {
     "duration": 0.045615,
     "end_time": "2020-08-20T15:20:01.371404",
     "exception": false,
     "start_time": "2020-08-20T15:20:01.325789",
     "status": "completed"
    },
    "tags": []
   },
   "outputs": [],
   "source": [
    "a=set(x.columns)-set(test.columns)"
   ]
  },
  {
   "cell_type": "code",
   "execution_count": 30,
   "metadata": {
    "colab": {
     "base_uri": "https://localhost:8080/",
     "height": 34
    },
    "colab_type": "code",
    "execution": {
     "iopub.execute_input": "2020-08-20T15:20:01.435080Z",
     "iopub.status.busy": "2020-08-20T15:20:01.434076Z",
     "iopub.status.idle": "2020-08-20T15:20:01.439374Z",
     "shell.execute_reply": "2020-08-20T15:20:01.438540Z"
    },
    "id": "SxioVmVfHfAl",
    "outputId": "b6851c99-8032-4056-a73b-aebb212935ef",
    "papermill": {
     "duration": 0.039693,
     "end_time": "2020-08-20T15:20:01.439521",
     "exception": false,
     "start_time": "2020-08-20T15:20:01.399828",
     "status": "completed"
    },
    "tags": []
   },
   "outputs": [
    {
     "data": {
      "text/plain": [
       "['color_type_Brown Tiger', 'color_type_Black Tiger']"
      ]
     },
     "execution_count": 30,
     "metadata": {
      "tags": []
     },
     "output_type": "execute_result"
    }
   ],
   "source": [
    "a=list(a)\n",
    "a"
   ]
  },
  {
   "cell_type": "code",
   "execution_count": 31,
   "metadata": {
    "colab": {},
    "colab_type": "code",
    "execution": {
     "iopub.execute_input": "2020-08-20T15:20:01.501464Z",
     "iopub.status.busy": "2020-08-20T15:20:01.500594Z",
     "iopub.status.idle": "2020-08-20T15:20:01.509469Z",
     "shell.execute_reply": "2020-08-20T15:20:01.508581Z"
    },
    "id": "-GAyixGnHfAq",
    "papermill": {
     "duration": 0.042624,
     "end_time": "2020-08-20T15:20:01.509617",
     "exception": false,
     "start_time": "2020-08-20T15:20:01.466993",
     "status": "completed"
    },
    "tags": []
   },
   "outputs": [],
   "source": [
    "x=x.drop(a,axis=1)"
   ]
  },
  {
   "cell_type": "code",
   "execution_count": 32,
   "metadata": {
    "colab": {
     "base_uri": "https://localhost:8080/",
     "height": 34
    },
    "colab_type": "code",
    "execution": {
     "iopub.execute_input": "2020-08-20T15:20:01.572124Z",
     "iopub.status.busy": "2020-08-20T15:20:01.570961Z",
     "iopub.status.idle": "2020-08-20T15:20:01.575882Z",
     "shell.execute_reply": "2020-08-20T15:20:01.575076Z"
    },
    "id": "ehwpXAw5HfA9",
    "outputId": "49f01eac-b936-419d-89fd-c028805a24b3",
    "papermill": {
     "duration": 0.038609,
     "end_time": "2020-08-20T15:20:01.576029",
     "exception": false,
     "start_time": "2020-08-20T15:20:01.537420",
     "status": "completed"
    },
    "tags": []
   },
   "outputs": [
    {
     "data": {
      "text/plain": [
       "((18834, 95), (8072, 95))"
      ]
     },
     "execution_count": 32,
     "metadata": {
      "tags": []
     },
     "output_type": "execute_result"
    }
   ],
   "source": [
    "x.shape,test.shape"
   ]
  },
  {
   "cell_type": "code",
   "execution_count": 33,
   "metadata": {
    "colab": {},
    "colab_type": "code",
    "execution": {
     "iopub.execute_input": "2020-08-20T15:20:01.638991Z",
     "iopub.status.busy": "2020-08-20T15:20:01.638113Z",
     "iopub.status.idle": "2020-08-20T15:20:01.655742Z",
     "shell.execute_reply": "2020-08-20T15:20:01.654859Z"
    },
    "id": "B_GBMwleHfBS",
    "papermill": {
     "duration": 0.05147,
     "end_time": "2020-08-20T15:20:01.655882",
     "exception": false,
     "start_time": "2020-08-20T15:20:01.604412",
     "status": "completed"
    },
    "tags": []
   },
   "outputs": [],
   "source": [
    "#again combining\n",
    "all_data = pd.concat((x, test)).reset_index(drop=True)"
   ]
  },
  {
   "cell_type": "markdown",
   "metadata": {
    "colab_type": "text",
    "id": "n2ls9QEIHfBa",
    "papermill": {
     "duration": 0.027682,
     "end_time": "2020-08-20T15:20:01.711824",
     "exception": false,
     "start_time": "2020-08-20T15:20:01.684142",
     "status": "completed"
    },
    "tags": []
   },
   "source": [
    " ## Scaling the data using StandardScaler()"
   ]
  },
  {
   "cell_type": "code",
   "execution_count": 34,
   "metadata": {
    "colab": {
     "base_uri": "https://localhost:8080/",
     "height": 270
    },
    "colab_type": "code",
    "execution": {
     "iopub.execute_input": "2020-08-20T15:20:01.776919Z",
     "iopub.status.busy": "2020-08-20T15:20:01.775873Z",
     "iopub.status.idle": "2020-08-20T15:20:02.982957Z",
     "shell.execute_reply": "2020-08-20T15:20:02.982292Z"
    },
    "id": "qiFZd_7kHfBc",
    "outputId": "dd3e42f2-d601-4fcf-b959-67477e316057",
    "papermill": {
     "duration": 1.242733,
     "end_time": "2020-08-20T15:20:02.983098",
     "exception": false,
     "start_time": "2020-08-20T15:20:01.740365",
     "status": "completed"
    },
    "tags": []
   },
   "outputs": [
    {
     "data": {
      "text/html": [
       "<div>\n",
       "<style scoped>\n",
       "    .dataframe tbody tr th:only-of-type {\n",
       "        vertical-align: middle;\n",
       "    }\n",
       "\n",
       "    .dataframe tbody tr th {\n",
       "        vertical-align: top;\n",
       "    }\n",
       "\n",
       "    .dataframe thead th {\n",
       "        text-align: right;\n",
       "    }\n",
       "</style>\n",
       "<table border=\"1\" class=\"dataframe\">\n",
       "  <thead>\n",
       "    <tr style=\"text-align: right;\">\n",
       "      <th></th>\n",
       "      <th>condition</th>\n",
       "      <th>length(m)</th>\n",
       "      <th>height(cm)</th>\n",
       "      <th>X1</th>\n",
       "      <th>X2</th>\n",
       "      <th>issue_month</th>\n",
       "      <th>listing_month</th>\n",
       "      <th>modified_listing_date</th>\n",
       "      <th>took_time</th>\n",
       "      <th>color_type_Agouti</th>\n",
       "      <th>color_type_Apricot</th>\n",
       "      <th>color_type_Black</th>\n",
       "      <th>color_type_Black Brindle</th>\n",
       "      <th>color_type_Black Smoke</th>\n",
       "      <th>color_type_Black Tabby</th>\n",
       "      <th>color_type_Blue</th>\n",
       "      <th>color_type_Blue Cream</th>\n",
       "      <th>color_type_Blue Merle</th>\n",
       "      <th>color_type_Blue Point</th>\n",
       "      <th>color_type_Blue Smoke</th>\n",
       "      <th>color_type_Blue Tabby</th>\n",
       "      <th>color_type_Blue Tick</th>\n",
       "      <th>color_type_Blue Tiger</th>\n",
       "      <th>color_type_Brown</th>\n",
       "      <th>color_type_Brown Brindle</th>\n",
       "      <th>color_type_Brown Merle</th>\n",
       "      <th>color_type_Brown Tabby</th>\n",
       "      <th>color_type_Buff</th>\n",
       "      <th>color_type_Calico</th>\n",
       "      <th>color_type_Calico Point</th>\n",
       "      <th>color_type_Chocolate</th>\n",
       "      <th>color_type_Chocolate Point</th>\n",
       "      <th>color_type_Cream</th>\n",
       "      <th>color_type_Cream Tabby</th>\n",
       "      <th>color_type_Fawn</th>\n",
       "      <th>color_type_Flame Point</th>\n",
       "      <th>color_type_Gold</th>\n",
       "      <th>color_type_Gray</th>\n",
       "      <th>color_type_Gray Tabby</th>\n",
       "      <th>color_type_Green</th>\n",
       "      <th>...</th>\n",
       "      <th>color_type_Tan</th>\n",
       "      <th>color_type_Torbie</th>\n",
       "      <th>color_type_Tortie</th>\n",
       "      <th>color_type_Tortie Point</th>\n",
       "      <th>color_type_Tricolor</th>\n",
       "      <th>color_type_White</th>\n",
       "      <th>color_type_Yellow</th>\n",
       "      <th>color_type_Yellow Brindle</th>\n",
       "      <th>1stnum_ANSL_4</th>\n",
       "      <th>1stnum_ANSL_5</th>\n",
       "      <th>1stnum_ANSL_6</th>\n",
       "      <th>1stnum_ANSL_7</th>\n",
       "      <th>1st2num_ANSL_49</th>\n",
       "      <th>1st2num_ANSL_50</th>\n",
       "      <th>1st2num_ANSL_51</th>\n",
       "      <th>1st2num_ANSL_52</th>\n",
       "      <th>1st2num_ANSL_53</th>\n",
       "      <th>1st2num_ANSL_54</th>\n",
       "      <th>1st2num_ANSL_55</th>\n",
       "      <th>1st2num_ANSL_56</th>\n",
       "      <th>1st2num_ANSL_57</th>\n",
       "      <th>1st2num_ANSL_58</th>\n",
       "      <th>1st2num_ANSL_59</th>\n",
       "      <th>1st2num_ANSL_60</th>\n",
       "      <th>1st2num_ANSL_61</th>\n",
       "      <th>1st2num_ANSL_62</th>\n",
       "      <th>1st2num_ANSL_63</th>\n",
       "      <th>1st2num_ANSL_64</th>\n",
       "      <th>1st2num_ANSL_65</th>\n",
       "      <th>1st2num_ANSL_66</th>\n",
       "      <th>1st2num_ANSL_67</th>\n",
       "      <th>1st2num_ANSL_68</th>\n",
       "      <th>1st2num_ANSL_69</th>\n",
       "      <th>1st2num_ANSL_70</th>\n",
       "      <th>1st2num_ANSL_71</th>\n",
       "      <th>1st2num_ANSL_72</th>\n",
       "      <th>1st2num_ANSL_73</th>\n",
       "      <th>1st2num_ANSL_74</th>\n",
       "      <th>1st2num_ANSL_75</th>\n",
       "      <th>1st2num_ANSL_76</th>\n",
       "    </tr>\n",
       "  </thead>\n",
       "  <tbody>\n",
       "    <tr>\n",
       "      <th>0</th>\n",
       "      <td>1.409180</td>\n",
       "      <td>1.024225</td>\n",
       "      <td>-1.514343</td>\n",
       "      <td>1.169789</td>\n",
       "      <td>1.262750</td>\n",
       "      <td>0.062139</td>\n",
       "      <td>0.622139</td>\n",
       "      <td>-1.457263</td>\n",
       "      <td>-0.713151</td>\n",
       "      <td>-0.014935</td>\n",
       "      <td>-0.024393</td>\n",
       "      <td>-0.568681</td>\n",
       "      <td>-0.058575</td>\n",
       "      <td>-0.03954</td>\n",
       "      <td>-0.056627</td>\n",
       "      <td>-0.219337</td>\n",
       "      <td>-0.023618</td>\n",
       "      <td>-0.070748</td>\n",
       "      <td>-0.02925</td>\n",
       "      <td>-0.021123</td>\n",
       "      <td>-0.145394</td>\n",
       "      <td>-0.039066</td>\n",
       "      <td>-0.020224</td>\n",
       "      <td>-0.326505</td>\n",
       "      <td>-0.165581</td>\n",
       "      <td>-0.047669</td>\n",
       "      <td>3.196171</td>\n",
       "      <td>-0.082753</td>\n",
       "      <td>-0.136902</td>\n",
       "      <td>-0.025144</td>\n",
       "      <td>-0.121592</td>\n",
       "      <td>-0.025144</td>\n",
       "      <td>-0.09487</td>\n",
       "      <td>-0.09878</td>\n",
       "      <td>-0.08975</td>\n",
       "      <td>-0.052516</td>\n",
       "      <td>-0.038586</td>\n",
       "      <td>-0.128341</td>\n",
       "      <td>-0.059839</td>\n",
       "      <td>-0.021986</td>\n",
       "      <td>...</td>\n",
       "      <td>-0.278293</td>\n",
       "      <td>-0.113298</td>\n",
       "      <td>-0.139278</td>\n",
       "      <td>-0.03557</td>\n",
       "      <td>-0.159069</td>\n",
       "      <td>-0.385807</td>\n",
       "      <td>-0.088266</td>\n",
       "      <td>-0.02925</td>\n",
       "      <td>-0.03341</td>\n",
       "      <td>-0.769033</td>\n",
       "      <td>1.300231</td>\n",
       "      <td>-0.585963</td>\n",
       "      <td>-0.03341</td>\n",
       "      <td>-0.196472</td>\n",
       "      <td>-0.196472</td>\n",
       "      <td>-0.196472</td>\n",
       "      <td>-0.196472</td>\n",
       "      <td>-0.196472</td>\n",
       "      <td>-0.196472</td>\n",
       "      <td>-0.196472</td>\n",
       "      <td>-0.196472</td>\n",
       "      <td>-0.196472</td>\n",
       "      <td>-0.19637</td>\n",
       "      <td>-0.196472</td>\n",
       "      <td>-0.196472</td>\n",
       "      <td>-0.196472</td>\n",
       "      <td>-0.196472</td>\n",
       "      <td>-0.196472</td>\n",
       "      <td>-0.196472</td>\n",
       "      <td>-0.196472</td>\n",
       "      <td>-0.196472</td>\n",
       "      <td>-0.196472</td>\n",
       "      <td>5.089794</td>\n",
       "      <td>-0.196472</td>\n",
       "      <td>-0.196472</td>\n",
       "      <td>-0.196472</td>\n",
       "      <td>-0.196472</td>\n",
       "      <td>-0.196472</td>\n",
       "      <td>-0.196472</td>\n",
       "      <td>-0.183557</td>\n",
       "    </tr>\n",
       "    <tr>\n",
       "      <th>1</th>\n",
       "      <td>0.292938</td>\n",
       "      <td>0.747384</td>\n",
       "      <td>-1.020842</td>\n",
       "      <td>1.169789</td>\n",
       "      <td>1.262750</td>\n",
       "      <td>1.277405</td>\n",
       "      <td>1.457140</td>\n",
       "      <td>1.235802</td>\n",
       "      <td>0.916711</td>\n",
       "      <td>-0.014935</td>\n",
       "      <td>-0.024393</td>\n",
       "      <td>-0.568681</td>\n",
       "      <td>-0.058575</td>\n",
       "      <td>-0.03954</td>\n",
       "      <td>-0.056627</td>\n",
       "      <td>-0.219337</td>\n",
       "      <td>-0.023618</td>\n",
       "      <td>-0.070748</td>\n",
       "      <td>-0.02925</td>\n",
       "      <td>-0.021123</td>\n",
       "      <td>-0.145394</td>\n",
       "      <td>-0.039066</td>\n",
       "      <td>-0.020224</td>\n",
       "      <td>-0.326505</td>\n",
       "      <td>-0.165581</td>\n",
       "      <td>-0.047669</td>\n",
       "      <td>-0.312874</td>\n",
       "      <td>-0.082753</td>\n",
       "      <td>-0.136902</td>\n",
       "      <td>-0.025144</td>\n",
       "      <td>-0.121592</td>\n",
       "      <td>-0.025144</td>\n",
       "      <td>-0.09487</td>\n",
       "      <td>-0.09878</td>\n",
       "      <td>-0.08975</td>\n",
       "      <td>-0.052516</td>\n",
       "      <td>-0.038586</td>\n",
       "      <td>-0.128341</td>\n",
       "      <td>-0.059839</td>\n",
       "      <td>-0.021986</td>\n",
       "      <td>...</td>\n",
       "      <td>-0.278293</td>\n",
       "      <td>-0.113298</td>\n",
       "      <td>-0.139278</td>\n",
       "      <td>-0.03557</td>\n",
       "      <td>-0.159069</td>\n",
       "      <td>2.591969</td>\n",
       "      <td>-0.088266</td>\n",
       "      <td>-0.02925</td>\n",
       "      <td>-0.03341</td>\n",
       "      <td>-0.769033</td>\n",
       "      <td>1.300231</td>\n",
       "      <td>-0.585963</td>\n",
       "      <td>-0.03341</td>\n",
       "      <td>-0.196472</td>\n",
       "      <td>-0.196472</td>\n",
       "      <td>-0.196472</td>\n",
       "      <td>-0.196472</td>\n",
       "      <td>-0.196472</td>\n",
       "      <td>-0.196472</td>\n",
       "      <td>-0.196472</td>\n",
       "      <td>-0.196472</td>\n",
       "      <td>-0.196472</td>\n",
       "      <td>-0.19637</td>\n",
       "      <td>-0.196472</td>\n",
       "      <td>-0.196472</td>\n",
       "      <td>-0.196472</td>\n",
       "      <td>-0.196472</td>\n",
       "      <td>-0.196472</td>\n",
       "      <td>-0.196472</td>\n",
       "      <td>5.089794</td>\n",
       "      <td>-0.196472</td>\n",
       "      <td>-0.196472</td>\n",
       "      <td>-0.196472</td>\n",
       "      <td>-0.196472</td>\n",
       "      <td>-0.196472</td>\n",
       "      <td>-0.196472</td>\n",
       "      <td>-0.196472</td>\n",
       "      <td>-0.196472</td>\n",
       "      <td>-0.196472</td>\n",
       "      <td>-0.183557</td>\n",
       "    </tr>\n",
       "    <tr>\n",
       "      <th>2</th>\n",
       "      <td>-1.939546</td>\n",
       "      <td>-1.225103</td>\n",
       "      <td>1.035542</td>\n",
       "      <td>1.475018</td>\n",
       "      <td>-0.157894</td>\n",
       "      <td>0.669772</td>\n",
       "      <td>0.900472</td>\n",
       "      <td>-1.364754</td>\n",
       "      <td>-0.094221</td>\n",
       "      <td>-0.014935</td>\n",
       "      <td>-0.024393</td>\n",
       "      <td>-0.568681</td>\n",
       "      <td>-0.058575</td>\n",
       "      <td>-0.03954</td>\n",
       "      <td>-0.056627</td>\n",
       "      <td>-0.219337</td>\n",
       "      <td>-0.023618</td>\n",
       "      <td>-0.070748</td>\n",
       "      <td>-0.02925</td>\n",
       "      <td>-0.021123</td>\n",
       "      <td>-0.145394</td>\n",
       "      <td>-0.039066</td>\n",
       "      <td>-0.020224</td>\n",
       "      <td>3.062744</td>\n",
       "      <td>-0.165581</td>\n",
       "      <td>-0.047669</td>\n",
       "      <td>-0.312874</td>\n",
       "      <td>-0.082753</td>\n",
       "      <td>-0.136902</td>\n",
       "      <td>-0.025144</td>\n",
       "      <td>-0.121592</td>\n",
       "      <td>-0.025144</td>\n",
       "      <td>-0.09487</td>\n",
       "      <td>-0.09878</td>\n",
       "      <td>-0.08975</td>\n",
       "      <td>-0.052516</td>\n",
       "      <td>-0.038586</td>\n",
       "      <td>-0.128341</td>\n",
       "      <td>-0.059839</td>\n",
       "      <td>-0.021986</td>\n",
       "      <td>...</td>\n",
       "      <td>-0.278293</td>\n",
       "      <td>-0.113298</td>\n",
       "      <td>-0.139278</td>\n",
       "      <td>-0.03557</td>\n",
       "      <td>-0.159069</td>\n",
       "      <td>-0.385807</td>\n",
       "      <td>-0.088266</td>\n",
       "      <td>-0.02925</td>\n",
       "      <td>-0.03341</td>\n",
       "      <td>-0.769033</td>\n",
       "      <td>1.300231</td>\n",
       "      <td>-0.585963</td>\n",
       "      <td>-0.03341</td>\n",
       "      <td>-0.196472</td>\n",
       "      <td>-0.196472</td>\n",
       "      <td>-0.196472</td>\n",
       "      <td>-0.196472</td>\n",
       "      <td>-0.196472</td>\n",
       "      <td>-0.196472</td>\n",
       "      <td>-0.196472</td>\n",
       "      <td>-0.196472</td>\n",
       "      <td>-0.196472</td>\n",
       "      <td>-0.19637</td>\n",
       "      <td>-0.196472</td>\n",
       "      <td>-0.196472</td>\n",
       "      <td>-0.196472</td>\n",
       "      <td>-0.196472</td>\n",
       "      <td>-0.196472</td>\n",
       "      <td>-0.196472</td>\n",
       "      <td>-0.196472</td>\n",
       "      <td>-0.196472</td>\n",
       "      <td>-0.196472</td>\n",
       "      <td>5.089794</td>\n",
       "      <td>-0.196472</td>\n",
       "      <td>-0.196472</td>\n",
       "      <td>-0.196472</td>\n",
       "      <td>-0.196472</td>\n",
       "      <td>-0.196472</td>\n",
       "      <td>-0.196472</td>\n",
       "      <td>-0.183557</td>\n",
       "    </tr>\n",
       "    <tr>\n",
       "      <th>3</th>\n",
       "      <td>0.292938</td>\n",
       "      <td>0.401334</td>\n",
       "      <td>-0.741371</td>\n",
       "      <td>-0.814202</td>\n",
       "      <td>-1.010281</td>\n",
       "      <td>1.581222</td>\n",
       "      <td>-1.604531</td>\n",
       "      <td>1.328311</td>\n",
       "      <td>-0.091489</td>\n",
       "      <td>-0.014935</td>\n",
       "      <td>-0.024393</td>\n",
       "      <td>-0.568681</td>\n",
       "      <td>-0.058575</td>\n",
       "      <td>-0.03954</td>\n",
       "      <td>-0.056627</td>\n",
       "      <td>-0.219337</td>\n",
       "      <td>-0.023618</td>\n",
       "      <td>-0.070748</td>\n",
       "      <td>-0.02925</td>\n",
       "      <td>-0.021123</td>\n",
       "      <td>-0.145394</td>\n",
       "      <td>-0.039066</td>\n",
       "      <td>-0.020224</td>\n",
       "      <td>-0.326505</td>\n",
       "      <td>-0.165581</td>\n",
       "      <td>-0.047669</td>\n",
       "      <td>-0.312874</td>\n",
       "      <td>-0.082753</td>\n",
       "      <td>-0.136902</td>\n",
       "      <td>-0.025144</td>\n",
       "      <td>-0.121592</td>\n",
       "      <td>-0.025144</td>\n",
       "      <td>-0.09487</td>\n",
       "      <td>-0.09878</td>\n",
       "      <td>-0.08975</td>\n",
       "      <td>-0.052516</td>\n",
       "      <td>-0.038586</td>\n",
       "      <td>-0.128341</td>\n",
       "      <td>-0.059839</td>\n",
       "      <td>-0.021986</td>\n",
       "      <td>...</td>\n",
       "      <td>-0.278293</td>\n",
       "      <td>-0.113298</td>\n",
       "      <td>-0.139278</td>\n",
       "      <td>-0.03557</td>\n",
       "      <td>-0.159069</td>\n",
       "      <td>2.591969</td>\n",
       "      <td>-0.088266</td>\n",
       "      <td>-0.02925</td>\n",
       "      <td>-0.03341</td>\n",
       "      <td>-0.769033</td>\n",
       "      <td>-0.769094</td>\n",
       "      <td>1.706594</td>\n",
       "      <td>-0.03341</td>\n",
       "      <td>-0.196472</td>\n",
       "      <td>-0.196472</td>\n",
       "      <td>-0.196472</td>\n",
       "      <td>-0.196472</td>\n",
       "      <td>-0.196472</td>\n",
       "      <td>-0.196472</td>\n",
       "      <td>-0.196472</td>\n",
       "      <td>-0.196472</td>\n",
       "      <td>-0.196472</td>\n",
       "      <td>-0.19637</td>\n",
       "      <td>-0.196472</td>\n",
       "      <td>-0.196472</td>\n",
       "      <td>-0.196472</td>\n",
       "      <td>-0.196472</td>\n",
       "      <td>-0.196472</td>\n",
       "      <td>-0.196472</td>\n",
       "      <td>-0.196472</td>\n",
       "      <td>-0.196472</td>\n",
       "      <td>-0.196472</td>\n",
       "      <td>-0.196472</td>\n",
       "      <td>-0.196472</td>\n",
       "      <td>5.089794</td>\n",
       "      <td>-0.196472</td>\n",
       "      <td>-0.196472</td>\n",
       "      <td>-0.196472</td>\n",
       "      <td>-0.196472</td>\n",
       "      <td>-0.183557</td>\n",
       "    </tr>\n",
       "    <tr>\n",
       "      <th>4</th>\n",
       "      <td>1.409180</td>\n",
       "      <td>-0.013926</td>\n",
       "      <td>-1.261818</td>\n",
       "      <td>1.932862</td>\n",
       "      <td>-0.157894</td>\n",
       "      <td>0.669772</td>\n",
       "      <td>1.178806</td>\n",
       "      <td>-0.077498</td>\n",
       "      <td>-0.731366</td>\n",
       "      <td>-0.014935</td>\n",
       "      <td>-0.024393</td>\n",
       "      <td>1.758456</td>\n",
       "      <td>-0.058575</td>\n",
       "      <td>-0.03954</td>\n",
       "      <td>-0.056627</td>\n",
       "      <td>-0.219337</td>\n",
       "      <td>-0.023618</td>\n",
       "      <td>-0.070748</td>\n",
       "      <td>-0.02925</td>\n",
       "      <td>-0.021123</td>\n",
       "      <td>-0.145394</td>\n",
       "      <td>-0.039066</td>\n",
       "      <td>-0.020224</td>\n",
       "      <td>-0.326505</td>\n",
       "      <td>-0.165581</td>\n",
       "      <td>-0.047669</td>\n",
       "      <td>-0.312874</td>\n",
       "      <td>-0.082753</td>\n",
       "      <td>-0.136902</td>\n",
       "      <td>-0.025144</td>\n",
       "      <td>-0.121592</td>\n",
       "      <td>-0.025144</td>\n",
       "      <td>-0.09487</td>\n",
       "      <td>-0.09878</td>\n",
       "      <td>-0.08975</td>\n",
       "      <td>-0.052516</td>\n",
       "      <td>-0.038586</td>\n",
       "      <td>-0.128341</td>\n",
       "      <td>-0.059839</td>\n",
       "      <td>-0.021986</td>\n",
       "      <td>...</td>\n",
       "      <td>-0.278293</td>\n",
       "      <td>-0.113298</td>\n",
       "      <td>-0.139278</td>\n",
       "      <td>-0.03557</td>\n",
       "      <td>-0.159069</td>\n",
       "      <td>-0.385807</td>\n",
       "      <td>-0.088266</td>\n",
       "      <td>-0.02925</td>\n",
       "      <td>-0.03341</td>\n",
       "      <td>1.300334</td>\n",
       "      <td>-0.769094</td>\n",
       "      <td>-0.585963</td>\n",
       "      <td>-0.03341</td>\n",
       "      <td>-0.196472</td>\n",
       "      <td>-0.196472</td>\n",
       "      <td>-0.196472</td>\n",
       "      <td>-0.196472</td>\n",
       "      <td>-0.196472</td>\n",
       "      <td>-0.196472</td>\n",
       "      <td>-0.196472</td>\n",
       "      <td>5.089794</td>\n",
       "      <td>-0.196472</td>\n",
       "      <td>-0.19637</td>\n",
       "      <td>-0.196472</td>\n",
       "      <td>-0.196472</td>\n",
       "      <td>-0.196472</td>\n",
       "      <td>-0.196472</td>\n",
       "      <td>-0.196472</td>\n",
       "      <td>-0.196472</td>\n",
       "      <td>-0.196472</td>\n",
       "      <td>-0.196472</td>\n",
       "      <td>-0.196472</td>\n",
       "      <td>-0.196472</td>\n",
       "      <td>-0.196472</td>\n",
       "      <td>-0.196472</td>\n",
       "      <td>-0.196472</td>\n",
       "      <td>-0.196472</td>\n",
       "      <td>-0.196472</td>\n",
       "      <td>-0.196472</td>\n",
       "      <td>-0.183557</td>\n",
       "    </tr>\n",
       "  </tbody>\n",
       "</table>\n",
       "<p>5 rows × 95 columns</p>\n",
       "</div>"
      ],
      "text/plain": [
       "   condition  length(m)  ...  1st2num_ANSL_75  1st2num_ANSL_76\n",
       "0   1.409180   1.024225  ...        -0.196472        -0.183557\n",
       "1   0.292938   0.747384  ...        -0.196472        -0.183557\n",
       "2  -1.939546  -1.225103  ...        -0.196472        -0.183557\n",
       "3   0.292938   0.401334  ...        -0.196472        -0.183557\n",
       "4   1.409180  -0.013926  ...        -0.196472        -0.183557\n",
       "\n",
       "[5 rows x 95 columns]"
      ]
     },
     "execution_count": 34,
     "metadata": {
      "tags": []
     },
     "output_type": "execute_result"
    }
   ],
   "source": [
    "from sklearn import preprocessing\n",
    "# Get column names first\n",
    "names = all_data.columns\n",
    "# Create the Scaler object\n",
    "scaler = preprocessing.StandardScaler()\n",
    "# Fit your data on the scaler object\n",
    "scaled_df = scaler.fit_transform(all_data)\n",
    "all_data = pd.DataFrame(scaled_df, columns=names)\n",
    "all_data.head()"
   ]
  },
  {
   "cell_type": "markdown",
   "metadata": {
    "colab_type": "text",
    "id": "e2LCIdD3HfGZ",
    "papermill": {
     "duration": 0.053928,
     "end_time": "2020-08-20T15:20:03.065480",
     "exception": false,
     "start_time": "2020-08-20T15:20:03.011552",
     "status": "completed"
    },
    "tags": []
   },
   "source": [
    "# Machine Learning models\n",
    "\n"
   ]
  },
  {
   "cell_type": "markdown",
   "metadata": {
    "colab_type": "text",
    "id": "wNImiyXG2qgB"
   },
   "source": [
    "## pet_category Prediction\n",
    "\n",
    "Split data for 1st model i.e pet_category prediction"
   ]
  },
  {
   "cell_type": "code",
   "execution_count": 35,
   "metadata": {
    "colab": {},
    "colab_type": "code",
    "execution": {
     "iopub.execute_input": "2020-08-20T15:20:03.129477Z",
     "iopub.status.busy": "2020-08-20T15:20:03.128200Z",
     "iopub.status.idle": "2020-08-20T15:20:03.132453Z",
     "shell.execute_reply": "2020-08-20T15:20:03.131629Z"
    },
    "id": "jM6KlfWTHfGa",
    "papermill": {
     "duration": 0.039217,
     "end_time": "2020-08-20T15:20:03.132603",
     "exception": false,
     "start_time": "2020-08-20T15:20:03.093386",
     "status": "completed"
    },
    "tags": []
   },
   "outputs": [],
   "source": [
    "x = all_data[:ntrain]\n",
    "test = all_data[ntrain:]"
   ]
  },
  {
   "cell_type": "code",
   "execution_count": 36,
   "metadata": {
    "colab": {},
    "colab_type": "code",
    "execution": {
     "iopub.execute_input": "2020-08-20T15:20:03.197478Z",
     "iopub.status.busy": "2020-08-20T15:20:03.196497Z",
     "iopub.status.idle": "2020-08-20T15:20:03.278697Z",
     "shell.execute_reply": "2020-08-20T15:20:03.278005Z"
    },
    "id": "tCBSR359HfGu",
    "papermill": {
     "duration": 0.117613,
     "end_time": "2020-08-20T15:20:03.278848",
     "exception": false,
     "start_time": "2020-08-20T15:20:03.161235",
     "status": "completed"
    },
    "tags": []
   },
   "outputs": [],
   "source": [
    "from sklearn.model_selection import train_test_split\n",
    "x1_train,x1_test,y1_train,y1_test=train_test_split(x,y2,test_size=0.2,random_state=44,shuffle=True)"
   ]
  },
  {
   "cell_type": "code",
   "execution_count": 37,
   "metadata": {
    "colab": {
     "base_uri": "https://localhost:8080/",
     "height": 136
    },
    "colab_type": "code",
    "execution": {
     "iopub.execute_input": "2020-08-20T15:20:04.522217Z",
     "iopub.status.busy": "2020-08-20T15:20:04.521404Z",
     "iopub.status.idle": "2020-08-20T15:20:16.154101Z",
     "shell.execute_reply": "2020-08-20T15:20:16.155270Z"
    },
    "id": "fSiR4_9NHfIa",
    "outputId": "206ab33d-26bc-49dc-b624-1c4334e07c94",
    "papermill": {
     "duration": 11.667538,
     "end_time": "2020-08-20T15:20:16.155490",
     "exception": false,
     "start_time": "2020-08-20T15:20:04.487952",
     "status": "completed"
    },
    "tags": []
   },
   "outputs": [
    {
     "data": {
      "text/plain": [
       "XGBClassifier(base_score=0.5, booster='gbtree', colsample_bylevel=1,\n",
       "              colsample_bynode=1, colsample_bytree=1, gamma=0,\n",
       "              learning_rate=0.1, max_delta_step=0, max_depth=3,\n",
       "              min_child_weight=1, missing=None, n_estimators=500, n_jobs=5,\n",
       "              nthread=None, objective='multi:softprob', random_state=0,\n",
       "              reg_alpha=0, reg_lambda=1, scale_pos_weight=1, seed=None,\n",
       "              silent=None, subsample=1, verbosity=1)"
      ]
     },
     "execution_count": 37,
     "metadata": {
      "tags": []
     },
     "output_type": "execute_result"
    }
   ],
   "source": [
    "from xgboost import XGBClassifier\n",
    "model1 = XGBClassifier(n_estimators=500, n_jobs=5,learning_rate=0.1)\n",
    "model1.fit(x1_train, y1_train)"
   ]
  },
  {
   "cell_type": "markdown",
   "metadata": {
    "colab_type": "text",
    "id": "_gWOtGvQHfIg",
    "papermill": {
     "duration": 0.034243,
     "end_time": "2020-08-20T15:20:16.225972",
     "exception": false,
     "start_time": "2020-08-20T15:20:16.191729",
     "status": "completed"
    },
    "tags": []
   },
   "source": [
    "## breed_category Prediction"
   ]
  },
  {
   "cell_type": "markdown",
   "metadata": {
    "colab_type": "text",
    "id": "RtJ6NUBNHfIh",
    "papermill": {
     "duration": 0.034507,
     "end_time": "2020-08-20T15:20:16.295698",
     "exception": false,
     "start_time": "2020-08-20T15:20:16.261191",
     "status": "completed"
    },
    "tags": []
   },
   "source": [
    "We'll use the output of **pet_category model** as an input feature of **breed_category model**."
   ]
  },
  {
   "cell_type": "code",
   "execution_count": 38,
   "metadata": {
    "colab": {},
    "colab_type": "code",
    "execution": {
     "iopub.execute_input": "2020-08-20T15:20:16.426075Z",
     "iopub.status.busy": "2020-08-20T15:20:16.425231Z",
     "iopub.status.idle": "2020-08-20T15:20:16.780546Z",
     "shell.execute_reply": "2020-08-20T15:20:16.781386Z"
    },
    "id": "edOLRojmHfIl",
    "papermill": {
     "duration": 0.393771,
     "end_time": "2020-08-20T15:20:16.781608",
     "exception": false,
     "start_time": "2020-08-20T15:20:16.387837",
     "status": "completed"
    },
    "tags": []
   },
   "outputs": [],
   "source": [
    "#new_feat is new feature i.e the predicted pet_category of model 1 for train data\n",
    "new_feat=model1.predict(x)\n",
    "#output1 is new first output i.e the predicted pet_category of model 1 for test data\n",
    "output1=model1.predict(test)\n",
    "#vld1 is validation 1 i.e we'll check score with the predicted result of validation data of model 1\n",
    "vld1=model1.predict(x1_test)"
   ]
  },
  {
   "cell_type": "code",
   "execution_count": 39,
   "metadata": {
    "colab": {},
    "colab_type": "code",
    "execution": {
     "iopub.execute_input": "2020-08-20T15:20:16.867491Z",
     "iopub.status.busy": "2020-08-20T15:20:16.866485Z",
     "iopub.status.idle": "2020-08-20T15:20:16.868727Z",
     "shell.execute_reply": "2020-08-20T15:20:16.869560Z"
    },
    "id": "IFqiOAR3HfIt",
    "papermill": {
     "duration": 0.045101,
     "end_time": "2020-08-20T15:20:16.869778",
     "exception": false,
     "start_time": "2020-08-20T15:20:16.824677",
     "status": "completed"
    },
    "tags": []
   },
   "outputs": [],
   "source": [
    "x2 = pd.DataFrame(x, columns=names)\n",
    "test2 = pd.DataFrame(test, columns=names)"
   ]
  },
  {
   "cell_type": "code",
   "execution_count": 40,
   "metadata": {
    "colab": {},
    "colab_type": "code",
    "execution": {
     "iopub.execute_input": "2020-08-20T15:20:16.948423Z",
     "iopub.status.busy": "2020-08-20T15:20:16.947534Z",
     "iopub.status.idle": "2020-08-20T15:20:16.949732Z",
     "shell.execute_reply": "2020-08-20T15:20:16.950546Z"
    },
    "id": "ZOeq6pb8HfIz",
    "papermill": {
     "duration": 0.045973,
     "end_time": "2020-08-20T15:20:16.950750",
     "exception": false,
     "start_time": "2020-08-20T15:20:16.904777",
     "status": "completed"
    },
    "tags": []
   },
   "outputs": [],
   "source": [
    "#the predicted pet_category of model 1 for train data is used as a input variable or feature of the train data of model 2\n",
    "x2['output1']=new_feat\n",
    "#the predicted pet_category of model 1 for test data is used as a input variable or feature of the test data of model 2\n",
    "test2['output1']=output1"
   ]
  },
  {
   "cell_type": "markdown",
   "metadata": {
    "colab_type": "text",
    "id": "p6wYtkJSHfI7",
    "papermill": {
     "duration": 0.027914,
     "end_time": "2020-08-20T15:20:17.011597",
     "exception": false,
     "start_time": "2020-08-20T15:20:16.983683",
     "status": "completed"
    },
    "tags": []
   },
   "source": [
    "spliting the data"
   ]
  },
  {
   "cell_type": "code",
   "execution_count": 41,
   "metadata": {
    "colab": {},
    "colab_type": "code",
    "execution": {
     "iopub.execute_input": "2020-08-20T15:20:17.076393Z",
     "iopub.status.busy": "2020-08-20T15:20:17.075419Z",
     "iopub.status.idle": "2020-08-20T15:20:17.089935Z",
     "shell.execute_reply": "2020-08-20T15:20:17.089229Z"
    },
    "id": "2aRINP-gHfI8",
    "papermill": {
     "duration": 0.050163,
     "end_time": "2020-08-20T15:20:17.090081",
     "exception": false,
     "start_time": "2020-08-20T15:20:17.039918",
     "status": "completed"
    },
    "tags": []
   },
   "outputs": [],
   "source": [
    "x2_train,x2_test,y2_train,y2_test=train_test_split(x2,y1,test_size=0.2,random_state=44)"
   ]
  },
  {
   "cell_type": "markdown",
   "metadata": {
    "colab_type": "text",
    "id": "xg_baJIo0a9p"
   },
   "source": [
    "Now Training the model."
   ]
  },
  {
   "cell_type": "code",
   "execution_count": 42,
   "metadata": {
    "colab": {
     "base_uri": "https://localhost:8080/",
     "height": 136
    },
    "colab_type": "code",
    "execution": {
     "iopub.execute_input": "2020-08-20T15:20:17.213044Z",
     "iopub.status.busy": "2020-08-20T15:20:17.211901Z",
     "iopub.status.idle": "2020-08-20T15:20:23.831956Z",
     "shell.execute_reply": "2020-08-20T15:20:23.833089Z"
    },
    "id": "l1hhjFHJHfKh",
    "outputId": "a0420671-d305-454e-ecf2-f4c9ef789948",
    "papermill": {
     "duration": 6.655276,
     "end_time": "2020-08-20T15:20:23.833316",
     "exception": false,
     "start_time": "2020-08-20T15:20:17.178040",
     "status": "completed"
    },
    "tags": []
   },
   "outputs": [
    {
     "data": {
      "text/plain": [
       "XGBClassifier(base_score=0.5, booster='gbtree', colsample_bylevel=1,\n",
       "              colsample_bynode=1, colsample_bytree=1, gamma=0,\n",
       "              learning_rate=0.1, max_delta_step=0, max_depth=3,\n",
       "              min_child_weight=1, missing=None, n_estimators=450, n_jobs=5,\n",
       "              nthread=None, objective='multi:softprob', random_state=0,\n",
       "              reg_alpha=0, reg_lambda=1, scale_pos_weight=1, seed=None,\n",
       "              silent=None, subsample=1, verbosity=1)"
      ]
     },
     "execution_count": 42,
     "metadata": {
      "tags": []
     },
     "output_type": "execute_result"
    }
   ],
   "source": [
    "model2 = XGBClassifier(n_estimators=450, n_jobs=5)\n",
    "model2.fit(x2_train, y2_train)"
   ]
  },
  {
   "cell_type": "code",
   "execution_count": 43,
   "metadata": {
    "colab": {},
    "colab_type": "code",
    "execution": {
     "iopub.execute_input": "2020-08-20T15:20:23.916102Z",
     "iopub.status.busy": "2020-08-20T15:20:23.915152Z",
     "iopub.status.idle": "2020-08-20T15:20:24.015207Z",
     "shell.execute_reply": "2020-08-20T15:20:24.016017Z"
    },
    "id": "Z8CkF4XUHfKl",
    "papermill": {
     "duration": 0.147858,
     "end_time": "2020-08-20T15:20:24.016237",
     "exception": false,
     "start_time": "2020-08-20T15:20:23.868379",
     "status": "completed"
    },
    "tags": []
   },
   "outputs": [],
   "source": [
    "#output 2 is the predicted breed_category of model 2 for test data\n",
    "output2=model2.predict(test)\n",
    "#vld2 is validation 2 i.e we'll check score with the predicted result of validation data of model 2\n",
    "vld2=model2.predict(x2_test)"
   ]
  },
  {
   "cell_type": "markdown",
   "metadata": {
    "colab_type": "text",
    "id": "pr6p6ej0HfKq",
    "papermill": {
     "duration": 0.034457,
     "end_time": "2020-08-20T15:20:24.088044",
     "exception": false,
     "start_time": "2020-08-20T15:20:24.053587",
     "status": "completed"
    },
    "tags": []
   },
   "source": [
    "# Check Accuracy"
   ]
  },
  {
   "cell_type": "code",
   "execution_count": 44,
   "metadata": {
    "colab": {},
    "colab_type": "code",
    "execution": {
     "iopub.execute_input": "2020-08-20T15:20:24.164321Z",
     "iopub.status.busy": "2020-08-20T15:20:24.163442Z",
     "iopub.status.idle": "2020-08-20T15:20:24.167547Z",
     "shell.execute_reply": "2020-08-20T15:20:24.166642Z"
    },
    "id": "s5aNdybHHfKt",
    "papermill": {
     "duration": 0.044548,
     "end_time": "2020-08-20T15:20:24.167704",
     "exception": false,
     "start_time": "2020-08-20T15:20:24.123156",
     "status": "completed"
    },
    "tags": []
   },
   "outputs": [],
   "source": [
    "from sklearn.metrics  import f1_score"
   ]
  },
  {
   "cell_type": "code",
   "execution_count": 45,
   "metadata": {
    "colab": {
     "base_uri": "https://localhost:8080/",
     "height": 34
    },
    "colab_type": "code",
    "execution": {
     "iopub.execute_input": "2020-08-20T15:20:24.242058Z",
     "iopub.status.busy": "2020-08-20T15:20:24.241188Z",
     "iopub.status.idle": "2020-08-20T15:20:24.253448Z",
     "shell.execute_reply": "2020-08-20T15:20:24.252749Z"
    },
    "id": "uTUjnBBtHfMQ",
    "outputId": "c7538022-b231-4869-ddb4-e9f334e78f2a",
    "papermill": {
     "duration": 0.049614,
     "end_time": "2020-08-20T15:20:24.253578",
     "exception": false,
     "start_time": "2020-08-20T15:20:24.203964",
     "status": "completed"
    },
    "tags": []
   },
   "outputs": [
    {
     "data": {
      "text/plain": [
       "90.57226920753799"
      ]
     },
     "execution_count": 45,
     "metadata": {
      "tags": []
     },
     "output_type": "execute_result"
    }
   ],
   "source": [
    "s1=f1_score(y1_test,vld1,average='weighted')\n",
    "s2=f1_score(y2_test,vld2,average='weighted')\n",
    "accuracy=100*((s1+s2)/2)\n",
    "accuracy"
   ]
  },
  {
   "cell_type": "markdown",
   "metadata": {
    "colab_type": "text",
    "id": "SgiMi_AwHfMX",
    "papermill": {
     "duration": 0.029307,
     "end_time": "2020-08-20T15:20:24.369737",
     "exception": false,
     "start_time": "2020-08-20T15:20:24.340430",
     "status": "completed"
    },
    "tags": []
   },
   "source": [
    "# Create Submission file"
   ]
  },
  {
   "cell_type": "code",
   "execution_count": 46,
   "metadata": {
    "colab": {},
    "colab_type": "code",
    "execution": {
     "iopub.execute_input": "2020-08-20T15:20:24.436382Z",
     "iopub.status.busy": "2020-08-20T15:20:24.435539Z",
     "iopub.status.idle": "2020-08-20T15:20:24.522387Z",
     "shell.execute_reply": "2020-08-20T15:20:24.521524Z"
    },
    "id": "ntksJJBDHfMY",
    "papermill": {
     "duration": 0.123929,
     "end_time": "2020-08-20T15:20:24.522539",
     "exception": false,
     "start_time": "2020-08-20T15:20:24.398610",
     "status": "completed"
    },
    "tags": []
   },
   "outputs": [],
   "source": [
    "sub_new=pd.DataFrame({\n",
    "    \"pet_id\":test_id,\n",
    "    \"breed_category\":output2,\n",
    "    \"pet_category\":output1\n",
    "})\n",
    "sub_new.to_csv(\"/content/result.csv\",index=False)"
   ]
  }
 ],
 "metadata": {
  "accelerator": "GPU",
  "colab": {
   "collapsed_sections": [],
   "name": "Pet_Adoption 90.927 .ipynb",
   "provenance": [],
   "toc_visible": true
  },
  "kernelspec": {
   "display_name": "Python 3",
   "language": "python",
   "name": "python3"
  },
  "language_info": {
   "codemirror_mode": {
    "name": "ipython",
    "version": 3
   },
   "file_extension": ".py",
   "mimetype": "text/x-python",
   "name": "python",
   "nbconvert_exporter": "python",
   "pygments_lexer": "ipython3",
   "version": "3.7.9"
  },
  "papermill": {
   "duration": 34.561904,
   "end_time": "2020-08-20T15:20:26.149203",
   "environment_variables": {},
   "exception": null,
   "input_path": "__notebook__.ipynb",
   "output_path": "__notebook__.ipynb",
   "parameters": {},
   "start_time": "2020-08-20T15:19:51.587299",
   "version": "2.1.0"
  }
 },
 "nbformat": 4,
 "nbformat_minor": 1
}
